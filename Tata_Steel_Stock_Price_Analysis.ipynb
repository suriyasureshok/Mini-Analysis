import pandas as pd
import numpy as np
import matplotlib.pyplot as plt
import seaborn as sns
import yfinance as yf

tata_steel = yf.Ticker("TATASTEEL.NS")
data = tata_steel.history(period="5y")
data.head()

data = data.drop(columns=["Dividends", "Stock Splits"], errors="ignore")
data = data.reset_index()
print(data.columns)
data.head()

plt.figure(figsize=(15,8))
sns.lineplot(x=data["Date"], y=data["Close"], label="Closing Price")
plt.title("Tata Steel Stock Price Over Time")
plt.xlabel("Date")
plt.ylabel("Price (INR)")
plt.legend()
plt.show()

