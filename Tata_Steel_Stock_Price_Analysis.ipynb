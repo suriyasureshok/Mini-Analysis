{
 "cells": [
  {
   "cell_type": "markdown",
   "metadata": {},
   "source": [
    "# Tata Steel Stock Analysis Using Moving Averages"
   ]
  },
  {
   "cell_type": "markdown",
   "metadata": {},
   "source": [
    "## Step 1: Import Required Libraries"
   ]
  },
  {
   "cell_type": "code",
   "metadata": {},
   "source": [
    "import pandas as pd\n",
    "import numpy as np\n",
    "import matplotlib.pyplot as plt\n",
    "import seaborn as sns\n",
    "import yfinance as yf"
   ]
  },
  {
   "cell_type": "markdown",
   "metadata": {},
   "source": [
    "## Step 2: Fetch Tata Steel Stock Data from Yahoo Finance"
   ]
  },
  {
   "cell_type": "code",
   "metadata": {},
   "source": [
    "tata_steel = yf.Ticker(\"TATASTEEL.NS\")\n",
    "data = tata_steel.history(period=\"5y\")\n",
    "data = data.drop(columns=[\"Dividends\", \"Stock Splits\"], errors=\"ignore\")\n",
    "data = data.reset_index()\n",
    "data.head()"
   ]
  },
  {
   "cell_type": "markdown",
   "metadata": {},
   "source": [
    "## Step 3: Visualizing Stock Price Trend"
   ]
  },
  {
   "cell_type": "code",
   "metadata": {},
   "source": [
    "plt.figure(figsize=(15,8))\n",
    "sns.lineplot(x=data[\"Date\"], y=data[\"Close\"], label=\"Closing Price\")\n",
    "plt.title(\"Tata Steel Stock Price Over Time\")\n",
    "plt.xlabel(\"Date\")\n",
    "plt.ylabel(\"Price (INR)\")\n",
    "plt.legend()\n",
    "plt.show()"
   ]
  },
  {
   "cell_type": "markdown",
   "metadata": {},
   "source": [
    "## Step 4: Compute 50-day and 200-day Moving Averages"
   ]
  },
  {
   "cell_type": "code",
   "metadata": {},
   "source": [
    "data[\"50_MA\"] = data[\"Close\"].rolling(window=50).mean()\n",
    "data[\"200_MA\"] = data[\"Close\"].rolling(window=200).mean()\n",
    "data.head()"
   ]
  },
  {
   "cell_type": "markdown",
   "metadata": {},
   "source": [
    "## Step 5: Visualizing Moving Averages with Stock Price"
   ]
  },
  {
   "cell_type": "code",
   "metadata": {},
   "source": [
    "plt.figure(figsize=(15,8))\n",
    "plt.plot(data.index, data[\"Close\"], label=\"Stock Price\", color=\"black\", linewidth=1)\n",
    "plt.plot(data.index, data[\"50_MA\"], label=\"50-Day MA\", color=\"red\", linestyle=\"--\", linewidth=0.5)\n",
    "plt.plot(data.index, data[\"200_MA\"], label=\"200-Day MA\", color=\"green\", linestyle=\"--\", linewidth=0.5)\n",
    "plt.title(\"Stock Price with 50 & 200 Moving Averages (Line Chart)\")\n",
    "plt.xlabel(\"Date\")\n",
    "plt.ylabel(\"Price\")\n",
    "plt.legend()\n",
    "plt.show()"
   ]
  },
  {
   "cell_type": "markdown",
   "metadata": {},
   "source": [
    "## Step 6: Analyze Monthly Returns"
   ]
  },
  {
   "cell_type": "code",
   "metadata": {},
   "source": [
    "data[\"Date\"] = pd.to_datetime(data[\"Date\"])\n",
    "data.set_index(\"Date\", inplace=True)\n",
    "data[\"Returns\"] = data[\"Close\"].resample('ME').ffill().pct_change()\n",
    "plt.figure(figsize=(15,8))\n",
    "sns.histplot(data[\"Returns\"].dropna(), bins=50, kde=True)\n",
    "plt.title(\"Monthly Returns Distribution\")\n",
    "plt.xlabel(\"Returns\")\n",
    "plt.show()"
   ]
  },
  {
   "cell_type": "markdown",
   "metadata": {},
   "source": [
    "## Key Observations"
   ]
  },
  {
   "cell_type": "markdown",
   "metadata": {},
   "source": [
    "- **Bounce Back from Moving Averages:** If the stock touches the 50-day MA and bounces up, it suggests a strong uptrend. If it fails and breaks below, the stock may weaken. The 200-day MA is a strong long-term support level.\n",
    "- **Golden Cross (Bullish Signal):** When the 50-day MA crosses above the 200-day MA, it signals a bullish trend.\n",
    "- **Death Cross (Bearish Signal):** When the 50-day MA crosses below the 200-day MA, it signals a bearish trend.\n",
    "- **Monthly Returns Distribution:** The histogram helps analyze stock volatility over time.\n"
   ]
  }
 ]
}
